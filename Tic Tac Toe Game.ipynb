{
 "cells": [
  {
   "cell_type": "code",
   "execution_count": 5,
   "metadata": {},
   "outputs": [
    {
     "name": "stdout",
     "output_type": "stream",
     "text": [
      "Available Themes: \n",
      "   chesterish\n",
      "   grade3\n",
      "   gruvboxd\n",
      "   gruvboxl\n",
      "   monokai\n",
      "   oceans16\n",
      "   onedork\n",
      "   solarizedd\n",
      "   solarizedl\n",
      "I am awesome\n"
     ]
    }
   ],
   "source": [
    "# Printing a Board First\n",
    "#Hello Aquib I have got the file\n",
    "!jt -l\n",
    "\n",
    "\n",
    "def TestingPull():\n",
    " # I wrote this function to practise the pull request thing\n",
    "    print('I am awesome')\n",
    "    \n",
    "\n",
    "TestingPull()\n",
    "\n",
    "#added"
   ]
  },
  {
   "cell_type": "code",
   "execution_count": 12,
   "metadata": {},
   "outputs": [
    {
     "name": "stdout",
     "output_type": "stream",
     "text": [
      " X | O | X\n",
      "-----------\n",
      " O | X | O\n",
      "-----------\n",
      " X | O | X\n"
     ]
    }
   ],
   "source": [
    "from IPython.display import clear_output\n",
    "def display_board(board):\n",
    "    clear_output()\n",
    "    print(\" \" +board[7]+ \" | \" +board[8]+ \" | \" +board[9])\n",
    "    print(\"-----------\")\n",
    "    print(\" \" +board[4]+ \" | \" +board[5]+ \" | \" +board[6])\n",
    "    print(\"-----------\")\n",
    "    print(\" \" +board[1]+ \" | \" +board[2]+ \" | \" +board[3])\n",
    "    \n",
    "test_board = ['#','X','O','X','O','X','O','X','O','X']\n",
    "\n",
    "display_board(test_board)"
   ]
  },
  {
   "cell_type": "code",
   "execution_count": 13,
   "metadata": {},
   "outputs": [],
   "source": [
    "# Player Input\n",
    "def player_input():\n",
    "    marker = \" \"\n",
    "    while marker != \"X\" or marker != \"O\":\n",
    "        marker = input(\"Player 1, do you want to be X or O? \").upper()\n",
    "        if marker == \"X\":\n",
    "            return (\"X\",\"O\")\n",
    "        else:\n",
    "            return (\"O\",\"X\")\n",
    "#player_input()"
   ]
  },
  {
   "cell_type": "code",
   "execution_count": 14,
   "metadata": {},
   "outputs": [
    {
     "name": "stdout",
     "output_type": "stream",
     "text": [
      " X | & | X\n",
      "-----------\n",
      " O | X | O\n",
      "-----------\n",
      " X | O | X\n"
     ]
    }
   ],
   "source": [
    "# Assignment\n",
    "def place_marker(board,marker,position):\n",
    "    board[position]=marker\n",
    "place_marker(test_board,\"&\",8)\n",
    "display_board(test_board)"
   ]
  },
  {
   "cell_type": "code",
   "execution_count": 15,
   "metadata": {},
   "outputs": [
    {
     "data": {
      "text/plain": [
       "True"
      ]
     },
     "execution_count": 15,
     "metadata": {},
     "output_type": "execute_result"
    }
   ],
   "source": [
    "# Win Prediction\n",
    "def win_check(board,mark):\n",
    "     return ((board[7] == mark and board[8] == mark and board[9] == mark) or # across the top\n",
    "    (board[4] == mark and board[5] == mark and board[6] == mark) or # across the middle\n",
    "    (board[1] == mark and board[2] == mark and board[3] == mark) or # across the bottom\n",
    "    (board[7] == mark and board[4] == mark and board[1] == mark) or # down the middle\n",
    "    (board[8] == mark and board[5] == mark and board[2] == mark) or # down the middle\n",
    "    (board[9] == mark and board[6] == mark and board[3] == mark) or # down the right side\n",
    "    (board[7] == mark and board[5] == mark and board[3] == mark) or # diagonal\n",
    "    (board[9] == mark and board[5] == mark and board[1] == mark)) # diagonal\n",
    "win_check(test_board,'X')"
   ]
  },
  {
   "cell_type": "code",
   "execution_count": 16,
   "metadata": {},
   "outputs": [],
   "source": [
    "# Random Who Goes\n",
    "import random\n",
    "def choose_first():\n",
    "    if random.randint(0,1) == 0:\n",
    "        return \"Player 1\"\n",
    "    else:\n",
    "        return \"Player 2\""
   ]
  },
  {
   "cell_type": "code",
   "execution_count": 17,
   "metadata": {},
   "outputs": [],
   "source": [
    "def space_check(board,position):\n",
    "    return board[position] == \" \""
   ]
  },
  {
   "cell_type": "code",
   "execution_count": 18,
   "metadata": {},
   "outputs": [],
   "source": [
    "def full_space_check():\n",
    "    for i in range(1,10):\n",
    "        if space_check(board,i):\n",
    "            return False\n",
    "    return True"
   ]
  },
  {
   "cell_type": "code",
   "execution_count": 19,
   "metadata": {},
   "outputs": [],
   "source": [
    "# Player's next postion\n",
    "def player_choice(board):\n",
    "    position = 0\n",
    "    while position not in [1,2,3,4,5,6,7,8,9] or not space_check(board,position):\n",
    "        position = int(input(\"Choose your next position (0-9)\"))\n",
    "    return position  "
   ]
  },
  {
   "cell_type": "code",
   "execution_count": 20,
   "metadata": {},
   "outputs": [],
   "source": [
    "# Play Again\n",
    "def replay():\n",
    "    return input(\"Do you want to play again? Yes or No ?\").upper().startswith(\"y\")"
   ]
  },
  {
   "cell_type": "code",
   "execution_count": 21,
   "metadata": {},
   "outputs": [
    {
     "name": "stdout",
     "output_type": "stream",
     "text": [
      "   |   |  \n",
      "-----------\n",
      "   |   |  \n",
      "-----------\n",
      "   |   |  \n",
      "Choose your next position (0-9)0\n",
      "Choose your next position (0-9)1\n"
     ]
    },
    {
     "ename": "TypeError",
     "evalue": "full_space_check() takes 0 positional arguments but 1 was given",
     "output_type": "error",
     "traceback": [
      "\u001b[1;31m---------------------------------------------------------------------------\u001b[0m",
      "\u001b[1;31mTypeError\u001b[0m                                 Traceback (most recent call last)",
      "\u001b[1;32m<ipython-input-21-95413a4cf53e>\u001b[0m in \u001b[0;36m<module>\u001b[1;34m\u001b[0m\n\u001b[0;32m     42\u001b[0m                 \u001b[0mgame_on\u001b[0m\u001b[1;33m=\u001b[0m\u001b[1;32mFalse\u001b[0m\u001b[1;33m\u001b[0m\u001b[1;33m\u001b[0m\u001b[0m\n\u001b[0;32m     43\u001b[0m             \u001b[1;32melse\u001b[0m\u001b[1;33m:\u001b[0m\u001b[1;33m\u001b[0m\u001b[1;33m\u001b[0m\u001b[0m\n\u001b[1;32m---> 44\u001b[1;33m                 \u001b[1;32mif\u001b[0m \u001b[0mfull_space_check\u001b[0m\u001b[1;33m(\u001b[0m\u001b[0mtheBoard\u001b[0m\u001b[1;33m)\u001b[0m\u001b[1;33m:\u001b[0m\u001b[1;33m\u001b[0m\u001b[1;33m\u001b[0m\u001b[0m\n\u001b[0m\u001b[0;32m     45\u001b[0m                     \u001b[0mdisplay_board\u001b[0m\u001b[1;33m(\u001b[0m\u001b[0mtheBoard\u001b[0m\u001b[1;33m)\u001b[0m\u001b[1;33m\u001b[0m\u001b[1;33m\u001b[0m\u001b[0m\n\u001b[0;32m     46\u001b[0m                     \u001b[0mprint\u001b[0m\u001b[1;33m(\u001b[0m\u001b[1;34m\"The game is a draw!\"\u001b[0m\u001b[1;33m)\u001b[0m\u001b[1;33m\u001b[0m\u001b[1;33m\u001b[0m\u001b[0m\n",
      "\u001b[1;31mTypeError\u001b[0m: full_space_check() takes 0 positional arguments but 1 was given"
     ]
    }
   ],
   "source": [
    "# Running Game\n",
    "print(\"Welcome to tic tac toe\")\n",
    "while True:\n",
    "    theBoard=[\" \"]*10\n",
    "    player1_marker,player2_marker=player_input()\n",
    "    turn=choose_first()\n",
    "    print(turn + \" will go first\")\n",
    "    \n",
    "    play_game=input(\"Are you ready to play?Enter Yes or No\")\n",
    "    \n",
    "    if play_game.lower()[0]=='y':\n",
    "        game_on=True\n",
    "    else:\n",
    "        game_on=False\n",
    "        \n",
    "    while game_on:\n",
    "        if turn == \"Player 1\":\n",
    "        \n",
    "            display_board(theBoard)\n",
    "            position=player_choice(theBoard)\n",
    "            place_marker(theBoard,player1_marker,position)\n",
    "        \n",
    "            if win_check(theBoard,player1_marker):\n",
    "                display_board(theBoard)\n",
    "                print(\"Congratulations, you have won!\")\n",
    "                game_on=False\n",
    "            else:\n",
    "                if full_space_check(theBoard):\n",
    "                    display_board(theBoard)\n",
    "                    print(\"The game is a draw!\")\n",
    "                    break\n",
    "                else:\n",
    "                    turn = \"Player 2\"\n",
    "        else:\n",
    "            display_board(theBoard)\n",
    "            position=player_choice(theBoard)\n",
    "            place_marker(theBoard,player2_marker,position)\n",
    "        \n",
    "            if win_check(theBoard,player2_marker):\n",
    "                display_board(theBoard)\n",
    "                print(\"Congratulations, you have won!\")\n",
    "                game_on=False\n",
    "            else:\n",
    "                if full_space_check(theBoard):\n",
    "                    display_board(theBoard)\n",
    "                    print(\"The game is a draw!\")\n",
    "                    break\n",
    "                else:\n",
    "                    turn = \"Player 1\"\n",
    "    # you had an indentation issue witht the first and the second loop            \n",
    "    if not replay():\n",
    "        break\n",
    "    "
   ]
  },
  {
   "cell_type": "code",
   "execution_count": null,
   "metadata": {},
   "outputs": [],
   "source": []
  },
  {
   "cell_type": "code",
   "execution_count": null,
   "metadata": {},
   "outputs": [],
   "source": []
  }
 ],
 "metadata": {
  "kernelspec": {
   "display_name": "Python 3",
   "language": "python",
   "name": "python3"
  },
  "language_info": {
   "codemirror_mode": {
    "name": "ipython",
    "version": 3
   },
   "file_extension": ".py",
   "mimetype": "text/x-python",
   "name": "python",
   "nbconvert_exporter": "python",
   "pygments_lexer": "ipython3",
   "version": "3.7.1"
  }
 },
 "nbformat": 4,
 "nbformat_minor": 4
}
