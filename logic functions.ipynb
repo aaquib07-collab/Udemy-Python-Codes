{
 "cells": [
  {
   "cell_type": "code",
   "execution_count": 17,
   "metadata": {},
   "outputs": [
    {
     "name": "stdout",
     "output_type": "stream",
     "text": [
      "the no. is even\n"
     ]
    }
   ],
   "source": [
    "def myfunc():\n",
    "    if 10%3==0:\n",
    "        print(\"the no. is odd\")\n",
    "    else:\n",
    "            print(\"the no. is even\")\n",
    "myfunc()\n"
   ]
  },
  {
   "cell_type": "code",
   "execution_count": 57,
   "metadata": {},
   "outputs": [
    {
     "data": {
      "text/plain": [
       "[2, 4, 6]"
      ]
     },
     "execution_count": 57,
     "metadata": {},
     "output_type": "execute_result"
    }
   ],
   "source": [
    "\n",
    "def my_func(my_list):\n",
    "\n",
    "    my_numbers=[]\n",
    "    \n",
    "    for num in my_list:\n",
    "        if num%2==0:\n",
    "            my_numbers.append(num)\n",
    "        else:\n",
    "            pass\n",
    "        \n",
    "    return my_numbers\n",
    "\n",
    "my_func([1,2,3,4,5,6])\n"
   ]
  }
 ],
 "metadata": {
  "kernelspec": {
   "display_name": "Python 3",
   "language": "python",
   "name": "python3"
  },
  "language_info": {
   "codemirror_mode": {
    "name": "ipython",
    "version": 3
   },
   "file_extension": ".py",
   "mimetype": "text/x-python",
   "name": "python",
   "nbconvert_exporter": "python",
   "pygments_lexer": "ipython3",
   "version": "3.7.6"
  }
 },
 "nbformat": 4,
 "nbformat_minor": 4
}
