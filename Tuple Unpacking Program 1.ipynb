{
 "cells": [
  {
   "cell_type": "code",
   "execution_count": 100,
   "metadata": {},
   "outputs": [
    {
     "data": {
      "text/plain": [
       "('', 0)"
      ]
     },
     "execution_count": 100,
     "metadata": {},
     "output_type": "execute_result"
    }
   ],
   "source": [
    "#Tuple Unpacking\n",
    "work_hours=[(\"Sam\",400),(\"Tony\",500),(\"Peter\",100)]\n",
    "\n",
    "def employee_check(work_hours):\n",
    "    \n",
    "    current_hours=0\n",
    "    employee_of_month=\"\"\n",
    "    \n",
    "    for employee,hours in work_hours:\n",
    "        \n",
    "        if hours<current_hours:\n",
    "            \n",
    "            current_hours=hours\n",
    "            employee_of_month=employee\n",
    "            \n",
    "        else:\n",
    "            pass\n",
    "        \n",
    "    return (employee_of_month,current_hours)\n",
    "    \n",
    "employee_check(work_hours)"
   ]
  }
 ],
 "metadata": {
  "kernelspec": {
   "display_name": "Python 3",
   "language": "python",
   "name": "python3"
  },
  "language_info": {
   "codemirror_mode": {
    "name": "ipython",
    "version": 3
   },
   "file_extension": ".py",
   "mimetype": "text/x-python",
   "name": "python",
   "nbconvert_exporter": "python",
   "pygments_lexer": "ipython3",
   "version": "3.7.6"
  }
 },
 "nbformat": 4,
 "nbformat_minor": 4
}
